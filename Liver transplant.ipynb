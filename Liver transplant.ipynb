{
 "cells": [
  {
   "cell_type": "code",
   "execution_count": 1,
   "metadata": {},
   "outputs": [],
   "source": [
    "import random\n",
    "import math\n",
    "import copy\n",
    "import scipy as sp\n",
    "import numpy as np\n",
    "import matplotlib.pyplot as plt\n",
    "from scipy.stats import poisson as poi\n",
    "from scipy.stats import expon"
   ]
  },
  {
   "cell_type": "code",
   "execution_count": 383,
   "metadata": {},
   "outputs": [],
   "source": [
    "# parameters input\n",
    "\n",
    "numClass = 3\n",
    "lambdas = [0, 0.6, 0.6, 0.6]\n",
    "mu = 0.2\n",
    "rho = [[],\n",
    "       [0.8, 0, 0.15, 0.05],\n",
    "       [0.3, 0.6, 0, 0.1],\n",
    "       [0.1, 0.2, 0.7, 0]]\n",
    "\n",
    "# here alpha is clock rate, inverse of the mean\n",
    "alpha = [0, 1/15, 1/30, 1/50]"
   ]
  },
  {
   "cell_type": "code",
   "execution_count": 70,
   "metadata": {},
   "outputs": [],
   "source": [
    "# define the patient class\n",
    "\n",
    "class patient():\n",
    "    def __init__(self, initClass, arrTime, currentClass, classTime, clockTime, curedClass, diedClass, endTime, initClock):\n",
    "        self.initClass = initClass\n",
    "        self.arrTime = arrTime\n",
    "        self.currentClass = currentClass\n",
    "        self.classTime = classTime\n",
    "        self.clockTime = clockTime\n",
    "        self.curedClass = curedClass\n",
    "        self.diedClass = diedClass\n",
    "        self.endTime = endTime\n",
    "        self.initClock = initClock\n",
    "\n",
    "    def worseTime(self):\n",
    "        i = 1\n",
    "        worseT = 0\n",
    "        while i <= self.currentClass:\n",
    "            worseT += self.classTime[i]\n",
    "            i += 1\n",
    "        return worseT"
   ]
  },
  {
   "cell_type": "code",
   "execution_count": 71,
   "metadata": {},
   "outputs": [],
   "source": [
    "# generate a new patient of the input class at time T\n",
    "\n",
    "def newPatient(inputClass, T):\n",
    "    initClass = inputClass\n",
    "    currentClass = initClass\n",
    "    diedClass = currentClass\n",
    "    classTime = [0 for i in range(numClass + 1)]\n",
    "    clockTime = math.ceil(expon.rvs(scale = 1/alpha[inputClass]))\n",
    "    return patient(initClass, T, currentClass, classTime, clockTime, 0, diedClass, 0, clockTime)"
   ]
  },
  {
   "cell_type": "code",
   "execution_count": 72,
   "metadata": {},
   "outputs": [],
   "source": [
    "# process the input parameters\n",
    "\n",
    "def inputProcess(numClass, rho):\n",
    "    classes = [i for i in range(numClass+1)]\n",
    "    patientsList = []\n",
    "    rhoC = copy.deepcopy(rho)\n",
    "    for row in rhoC[1:]:\n",
    "        for j in range(1, len(row)):\n",
    "            row[j] = row[j] + row[j-1]\n",
    "\n",
    "    return classes, patientsList, rhoC"
   ]
  },
  {
   "cell_type": "code",
   "execution_count": 73,
   "metadata": {},
   "outputs": [],
   "source": [
    "# check if new patient arrives\n",
    "\n",
    "def newArr(classes, patientsList, lambdas, alpha, T):\n",
    "    for i in classes[1:]:\n",
    "        rnum = poi.rvs(lambdas[i])\n",
    "        #print('newArr:', rnum)\n",
    "        for j in range(rnum):\n",
    "            patientsList.append(newPatient(i, T))\n",
    "    return patientsList"
   ]
  },
  {
   "cell_type": "code",
   "execution_count": 74,
   "metadata": {},
   "outputs": [],
   "source": [
    "# update existing patient status\n",
    "\n",
    "def pUpdate(classes, patientsList, alpha, rhoC, T):\n",
    "    if len(patientsList) > 0:\n",
    "        for p in patientsList:\n",
    "            if p.currentClass != -1 and p.currentClass != 0:\n",
    "                p.classTime[p.currentClass] +=1\n",
    "                p.clockTime -=1\n",
    "\n",
    "                if p.clockTime == 0:\n",
    "                    rnum = random.random()\n",
    "                    for j in range(len(rhoC[p.currentClass])):\n",
    "                        if rnum <= rhoC[p.currentClass][j]:\n",
    "                            p.currentClass = j\n",
    "                            break\n",
    "\n",
    "                    if p.currentClass != 0:\n",
    "                        p.clockTime = math.ceil(expon.rvs(1/alpha[p.currentClass]))\n",
    "                        p.diedClass = p.currentClass\n",
    "                    if p.currentClass == 0:\n",
    "                        p.endTime = T\n",
    "                    \n",
    "    return patientsList"
   ]
  },
  {
   "cell_type": "code",
   "execution_count": 75,
   "metadata": {},
   "outputs": [],
   "source": [
    "# 1>2>3 then compare the time in the class or worse\n",
    "\n",
    "def policy1(classes, patientsList):\n",
    "    minClass = classes[-1] + 1\n",
    "    maxWorseT = 0\n",
    "    c = False\n",
    "    for i in range(len(patientsList)):\n",
    "        if  patientsList[i].currentClass > 0:\n",
    "            if patientsList[i].currentClass < minClass:\n",
    "                minClass = patientsList[i].currentClass\n",
    "                c = i\n",
    "            if patientsList[i].currentClass <= minClass and patientsList[i].worseTime() > maxWorseT:\n",
    "                maxWorseT = patientsList[i].worseTime()\n",
    "                c = i\n",
    "    return c"
   ]
  },
  {
   "cell_type": "code",
   "execution_count": 338,
   "metadata": {},
   "outputs": [],
   "source": [
    "# 2>1>3 decided by rho*mu*alpha\n",
    "\n",
    "def policy2(patientsList):\n",
    "    classes_mod = [3, 2, 1]\n",
    "    minClass = len(classes_mod)\n",
    "    maxWorseT = 0\n",
    "    c = False\n",
    "    for i in range(len(patientsList)):\n",
    "        if patientsList[i].currentClass > 0:\n",
    "            if classes_mod.index(patientsList[i].currentClass) < minClass:\n",
    "                minClass = classes_mod.index(patientsList[i].currentClass)\n",
    "                c = i\n",
    "            if classes_mod.index(patientsList[i].currentClass) <= minClass and patientsList[i].worseTime() > maxWorseT:\n",
    "                maxWorseT = patientsList[i].worseTime()\n",
    "                c = i\n",
    "    return c"
   ]
  },
  {
   "cell_type": "code",
   "execution_count": 91,
   "metadata": {},
   "outputs": [],
   "source": [
    "# check if donar arrives\n",
    "\n",
    "def serv_p1(classes, patientsList, mu, servList, T):\n",
    "    rnum = poi.rvs(mu)\n",
    "    servList.append([T, rnum])\n",
    "    \n",
    "    for j in range(rnum):\n",
    "        c = policy1(classes, patientsList)\n",
    "        if c:\n",
    "            patientsList[c].curedClass = patientsList[c].currentClass\n",
    "            patientsList[c].currentClass = -1\n",
    "            patientsList[c].endTime = T\n",
    "    return patientsList, servList"
   ]
  },
  {
   "cell_type": "code",
   "execution_count": 95,
   "metadata": {},
   "outputs": [],
   "source": [
    "def serv_p2(classes, patientsList, mu, servList, T):\n",
    "    rnum = poi.rvs(mu)\n",
    "    servList.append([T, rnum])\n",
    "    \n",
    "    for j in range(rnum):\n",
    "        c = policy2(patientsList)\n",
    "        if c:\n",
    "            patientsList[c].curedClass = patientsList[c].currentClass\n",
    "            patientsList[c].currentClass = -1\n",
    "            patientsList[c].endTime = T\n",
    "    return patientsList, servList"
   ]
  },
  {
   "cell_type": "code",
   "execution_count": 80,
   "metadata": {},
   "outputs": [],
   "source": [
    "def mainSim_p1(T_end, numClass, lambdas, mu, rho, alpha):\n",
    "    classes, patientsList, rhoC = inputProcess(numClass, rho)\n",
    "    T = 0\n",
    "    servList = []\n",
    "    while T <= T_end:\n",
    "        # update patients status\n",
    "        patientsList = pUpdate(classes, patientsList, alpha, rhoC, T)\n",
    "         \n",
    "        # check new arrivals\n",
    "        patientsList = newArr(classes, patientsList, lambdas, alpha, T)     \n",
    "   \n",
    "        # check service\n",
    "        patientsList,servList = serv_p1(classes, patientsList, mu, servList, T)\n",
    "        \n",
    "        T += 1\n",
    "    return patientsList, servList"
   ]
  },
  {
   "cell_type": "code",
   "execution_count": 81,
   "metadata": {},
   "outputs": [],
   "source": [
    "def mainSim_p2(T_end, numClass, lambdas, mu, rho, alpha):\n",
    "    classes, patientsList, rhoC = inputProcess(numClass, rho)\n",
    "    T = 0\n",
    "    servList = []\n",
    "    while T <= T_end:\n",
    "        # update patients status\n",
    "        patientsList = pUpdate(classes, patientsList, alpha, rhoC, T)\n",
    "         \n",
    "        # check new arrivals\n",
    "        patientsList = newArr(classes, patientsList, lambdas, alpha, T)     \n",
    "   \n",
    "        # check service\n",
    "        patientsList,servList = serv_p2(classes, patientsList, mu, servList, T)\n",
    "        \n",
    "        T += 1\n",
    "    return patientsList, servList"
   ]
  },
  {
   "cell_type": "code",
   "execution_count": 231,
   "metadata": {},
   "outputs": [
    {
     "name": "stdout",
     "output_type": "stream",
     "text": [
      "0\n",
      "1\n",
      "2\n",
      "3\n",
      "4\n",
      "5\n",
      "6\n",
      "7\n",
      "8\n",
      "9\n"
     ]
    }
   ],
   "source": [
    "c0_p1 = []\n",
    "c0_p2 = []\n",
    "for i in range(10):\n",
    "    t_end = 5000\n",
    "    pp_p1, serv1 = mainSim_p1(t_end, numClass, lambdas, mu, rho, alpha)\n",
    "    pp_p2, serv2 = mainSim_p2(t_end, numClass, lambdas, mu, rho, alpha)\n",
    "    p0_p1 = 0\n",
    "    p0_p2 = 0\n",
    "    \n",
    "    for p in pp_p1:\n",
    "        if p.currentClass == 0:\n",
    "            p0_p1 +=1\n",
    "    c0_p1.append(p0_p1/len(pp_p1))\n",
    "    \n",
    "    for p in pp_p2:\n",
    "        if p.currentClass == 0:\n",
    "            p0_p2 +=1\n",
    "    c0_p2.append(p0_p2/len(pp_p2))\n",
    "    print(i)"
   ]
  },
  {
   "cell_type": "code",
   "execution_count": 232,
   "metadata": {},
   "outputs": [
    {
     "data": {
      "text/plain": [
       "Ttest_indResult(statistic=-0.1346623406245743, pvalue=0.89441919530897984)"
      ]
     },
     "execution_count": 232,
     "metadata": {},
     "output_type": "execute_result"
    }
   ],
   "source": [
    "sp.stats.ttest_ind(c0_p1, c0_p2, axis=0, equal_var=False)"
   ]
  },
  {
   "cell_type": "code",
   "execution_count": 233,
   "metadata": {},
   "outputs": [
    {
     "name": "stdout",
     "output_type": "stream",
     "text": [
      "9\n",
      "0.00217530543007\n",
      "0.00238054570218\n",
      "0.00230749643395\n",
      "0.00199231728247\n"
     ]
    }
   ],
   "source": [
    "print(mu)\n",
    "print(np.mean(c0_p1))\n",
    "print(np.std(c0_p1,ddof = 1))\n",
    "print(np.mean(c0_p2))\n",
    "print(np.std(c0_p2,ddof = 1))"
   ]
  },
  {
   "cell_type": "code",
   "execution_count": 27,
   "metadata": {},
   "outputs": [],
   "source": [
    "def stat(patientsList):\n",
    "    c = 0\n",
    "    d = 0\n",
    "    if len(patientsList) > 0:\n",
    "        for i in patientsList:\n",
    "            if i.currentClass == -1:\n",
    "                c +=1\n",
    "            if i.currentClass == 0:\n",
    "                d +=1\n",
    "        curedRate = c/len(patientsList)\n",
    "        diedRate = d/len(patientsList)\n",
    "    else:\n",
    "        curedRate = 0\n",
    "        diedRate = 0\n",
    "        \n",
    "    return curedRate, diedRate\n",
    "\n",
    "# main simulation process\n",
    "\n",
    "def mainSim1(T_end, numClass, lambdas, mu, rho, alpha):\n",
    "    classes, patientsList, rhoC = inputProcess(numClass, rho)\n",
    "    T = 0\n",
    "    servList = []\n",
    "    cRates = []\n",
    "    dRates = []\n",
    "    while T <= T_end:\n",
    "        # update patients status\n",
    "        patientsList = pUpdate(classes, patientsList, alpha, rhoC, T)\n",
    "         \n",
    "        # check new arrivals\n",
    "        patientsList = newArr(classes, patientsList, lambdas, alpha, T)     \n",
    "   \n",
    "        # check service\n",
    "        patientsList,servList = serv(classes, patientsList, mu, servList, T)\n",
    "        \n",
    "        cR, dR = stat(patientsList)\n",
    "        cRates.append(cR)\n",
    "        dRates.append(dR)\n",
    "        T += 1\n",
    "    return patientsList, servList, cRates, dRates\n",
    "\n"
   ]
  },
  {
   "cell_type": "code",
   "execution_count": 34,
   "metadata": {},
   "outputs": [
    {
     "ename": "NameError",
     "evalue": "name 'mainSim1' is not defined",
     "output_type": "error",
     "traceback": [
      "\u001b[1;31m---------------------------------------------------------------------------\u001b[0m",
      "\u001b[1;31mNameError\u001b[0m                                 Traceback (most recent call last)",
      "\u001b[1;32m<ipython-input-34-937a46afe085>\u001b[0m in \u001b[0;36m<module>\u001b[1;34m()\u001b[0m\n\u001b[0;32m      4\u001b[0m \u001b[1;33m\u001b[0m\u001b[0m\n\u001b[0;32m      5\u001b[0m \u001b[1;32mfor\u001b[0m \u001b[0mi\u001b[0m \u001b[1;32min\u001b[0m \u001b[0mrange\u001b[0m\u001b[1;33m(\u001b[0m\u001b[1;36m10\u001b[0m\u001b[1;33m)\u001b[0m\u001b[1;33m:\u001b[0m\u001b[1;33m\u001b[0m\u001b[0m\n\u001b[1;32m----> 6\u001b[1;33m     \u001b[0mpp\u001b[0m\u001b[1;33m,\u001b[0m \u001b[0mserv1\u001b[0m\u001b[1;33m,\u001b[0m \u001b[0mcrs\u001b[0m\u001b[1;33m,\u001b[0m \u001b[0mdrs\u001b[0m \u001b[1;33m=\u001b[0m \u001b[0mmainSim1\u001b[0m\u001b[1;33m(\u001b[0m\u001b[0mt_end\u001b[0m\u001b[1;33m,\u001b[0m \u001b[0mnumClass\u001b[0m\u001b[1;33m,\u001b[0m \u001b[0mlambdas\u001b[0m\u001b[1;33m,\u001b[0m \u001b[0mmu\u001b[0m\u001b[1;33m,\u001b[0m \u001b[0mrho\u001b[0m\u001b[1;33m,\u001b[0m \u001b[0malpha\u001b[0m\u001b[1;33m)\u001b[0m\u001b[1;33m\u001b[0m\u001b[0m\n\u001b[0m\u001b[0;32m      7\u001b[0m     \u001b[0mcrs_array\u001b[0m\u001b[1;33m.\u001b[0m\u001b[0mappend\u001b[0m\u001b[1;33m(\u001b[0m\u001b[0mcrs\u001b[0m\u001b[1;33m[\u001b[0m\u001b[1;36m1\u001b[0m\u001b[1;33m:\u001b[0m\u001b[1;33m]\u001b[0m\u001b[1;33m)\u001b[0m\u001b[1;33m\u001b[0m\u001b[0m\n\u001b[0;32m      8\u001b[0m     \u001b[0mprint\u001b[0m\u001b[1;33m(\u001b[0m\u001b[0mi\u001b[0m\u001b[1;33m)\u001b[0m\u001b[1;33m\u001b[0m\u001b[0m\n",
      "\u001b[1;31mNameError\u001b[0m: name 'mainSim1' is not defined"
     ]
    }
   ],
   "source": [
    "t_end = 10000\n",
    "\n",
    "crs_array = []\n",
    "\n",
    "for i in range(10):\n",
    "    pp, serv1, crs, drs = mainSim1(t_end, numClass, lambdas, mu, rho, alpha)\n",
    "    crs_array.append(crs[1:])\n",
    "    print(i)\n",
    "    \n",
    "crs_array = np.array(crs_array)\n",
    "crs_mean = np.mean(crs_array, axis = 0)\n",
    "crs_std = np.std(crs_array, axis = 0)\n",
    "crs_u = crs_mean + 1.96 * crs_std/(10**0.5)\n",
    "crs_l = crs_mean - 1.96 * crs_std/(10**0.5)"
   ]
  },
  {
   "cell_type": "code",
   "execution_count": 170,
   "metadata": {},
   "outputs": [],
   "source": [
    "crs_u = crs_mean + 1.96 * crs_std/(10**0.5)\n",
    "crs_l = crs_mean - 1.96 * crs_std/(10**0.5)"
   ]
  },
  {
   "cell_type": "code",
   "execution_count": 53,
   "metadata": {},
   "outputs": [
    {
     "data": {
      "text/plain": [
       "array([ 0.15      ,  0.22438237,  0.2005551 ,  0.16876742,  0.18513961,\n",
       "        0.19777802,  0.20667483,  0.20703265,  0.22699912,  0.29346299,\n",
       "        0.30002312,  0.29805499,  0.31664458,  0.32075305,  0.32362866,\n",
       "        0.31777451,  0.3110595 ,  0.30591206,  0.30802649,  0.3062088 ])"
      ]
     },
     "execution_count": 53,
     "metadata": {},
     "output_type": "execute_result"
    }
   ],
   "source": [
    "crs_std[:20]"
   ]
  },
  {
   "cell_type": "code",
   "execution_count": 54,
   "metadata": {},
   "outputs": [
    {
     "data": {
      "text/plain": [
       "array([ 0.05      ,  0.10928571,  0.14551587,  0.13219697,  0.15730519,\n",
       "        0.1736648 ,  0.21610495,  0.25045417,  0.30275826,  0.35250769,\n",
       "        0.3588404 ,  0.376788  ,  0.40032064,  0.42170728,  0.42713644,\n",
       "        0.42562093,  0.41960432,  0.41959935,  0.41889289,  0.42251662])"
      ]
     },
     "execution_count": 54,
     "metadata": {},
     "output_type": "execute_result"
    }
   ],
   "source": [
    "crs_mean[:20]"
   ]
  },
  {
   "cell_type": "code",
   "execution_count": 61,
   "metadata": {},
   "outputs": [
    {
     "data": {
      "image/png": "[encoded data removed]",
      "text/plain": [
       "<matplotlib.figure.Figure at 0x24834e0f6a0>"
      ]
     },
     "metadata": {},
     "output_type": "display_data"
    }
   ],
   "source": [
    "plt.close('all')\n",
    "fig, axes = plt.subplots(1,2,figsize=(14,4))\n",
    "ax1 = axes[0]\n",
    "ax2 = axes[1]\n",
    "\n",
    "ax1.plot(crs_mean)\n",
    "ax1.set_xlabel('Simulation Step')\n",
    "ax1.set_ylabel('Mean')\n",
    "\n",
    "ax2.plot(crs_std)\n",
    "ax2.set_xlabel('Simulation Step')\n",
    "ax2.set_ylabel('Standard deviation')\n",
    "\n",
    "plt.show()"
   ]
  },
  {
   "cell_type": "code",
   "execution_count": 69,
   "metadata": {},
   "outputs": [
    {
     "data": {
      "image/png": "[encoded data removed]",
      "text/plain": [
       "<matplotlib.figure.Figure at 0x24834d4d278>"
      ]
     },
     "metadata": {},
     "output_type": "display_data"
    }
   ],
   "source": [
    "plt.close('all')\n",
    "fig, ax = plt.subplots(figsize=(14,4))\n",
    "\n",
    "ax.plot(range(1000,10000),crs_u[1000:])\n",
    "ax.plot(range(1000,10000),crs_l[1000:])\n",
    "\n",
    "ax.set_xlabel('Simulation Step')\n",
    "ax.set_ylabel('95% C.I.')\n",
    "ax.set_xlim([1000,10100])\n",
    "\n",
    "plt.show()"
   ]
  },
  {
   "cell_type": "code",
   "execution_count": 84,
   "metadata": {},
   "outputs": [],
   "source": [
    "def serv(classes, patientsList, mu, servList, T):\n",
    "    rnum = poi.rvs(mu)\n",
    "    servList.append([T, rnum])\n",
    "    \n",
    "    for j in range(rnum):\n",
    "        c = policy1(classes, patientsList)\n",
    "        if c:\n",
    "            patientsList[c].curedClass = patientsList[c].currentClass\n",
    "            patientsList[c].currentClass = -1\n",
    "            patientsList[c].endTime = T\n",
    "    return patientsList, servList"
   ]
  },
  {
   "cell_type": "code",
   "execution_count": 88,
   "metadata": {},
   "outputs": [],
   "source": [
    "def mainSim(T_end, numClass, lambdas, mu, rho, alpha):\n",
    "    classes, patientsList, rhoC = inputProcess(numClass, rho)\n",
    "    T = 0\n",
    "    servList = []\n",
    "    while T <= T_end:\n",
    "        # update patients status\n",
    "        patientsList = pUpdate(classes, patientsList, alpha, rhoC, T)\n",
    "         \n",
    "        # check new arrivals\n",
    "        patientsList = newArr(classes, patientsList, lambdas, alpha, T)     \n",
    "   \n",
    "        # check service\n",
    "        patientsList,servList = serv_p1(classes, patientsList, mu, servList, T)\n",
    "        \n",
    "        T += 1\n",
    "    return patientsList, servList"
   ]
  },
  {
   "cell_type": "markdown",
   "metadata": {},
   "source": [
    "# Reward"
   ]
  },
  {
   "cell_type": "code",
   "execution_count": 384,
   "metadata": {},
   "outputs": [
    {
     "name": "stdout",
     "output_type": "stream",
     "text": [
      "0\n",
      "1\n",
      "2\n",
      "3\n",
      "4\n",
      "5\n",
      "6\n",
      "7\n",
      "8\n",
      "9\n"
     ]
    }
   ],
   "source": [
    "c1 = []\n",
    "c2 = []\n",
    "c3 = []\n",
    "for i in range(10):\n",
    "    t_end = 5000\n",
    "    pp, serv1 = mainSim_p2(t_end, numClass, lambdas, mu, rho, alpha)\n",
    "\n",
    "    cured1 = 0\n",
    "    cured2 = 0\n",
    "    cured3 = 0\n",
    "\n",
    "    for p in pp:\n",
    "        if p.currentClass == -1:\n",
    "            p_1 +=1\n",
    "            if p.curedClass == 1:\n",
    "                cured1 +=1\n",
    "            if p.curedClass == 2:\n",
    "                cured2 +=1\n",
    "            if p.curedClass == 3:\n",
    "                cured3 +=1\n",
    "\n",
    "            \n",
    "    c1.append(cured1/len(pp))\n",
    "    c2.append(cured2/len(pp))\n",
    "    c3.append(cured3/len(pp))\n",
    "    print(i)"
   ]
  },
  {
   "cell_type": "code",
   "execution_count": 402,
   "metadata": {},
   "outputs": [
    {
     "name": "stdout",
     "output_type": "stream",
     "text": [
      "[0, 21, 0, 0]\n",
      "[0, 0, 0, 0]\n",
      "[0, 0, 0, 1]\n",
      "[0, 0, 8, 0]\n",
      "[0, 0, 0, 1]\n",
      "[0, 0, 9, 1]\n",
      "[0, 4, 5, 0]\n",
      "[0, 0, 0, 0]\n",
      "[0, 0, 0, 0]\n"
     ]
    }
   ],
   "source": [
    "for i in range(91,100):\n",
    "    print(pp[i].classTime)"
   ]
  },
  {
   "cell_type": "code",
   "execution_count": null,
   "metadata": {},
   "outputs": [],
   "source": [
    "r1 = 1\n",
    "r2 = 3\n",
    "r3 = 8\n",
    "\n",
    "c11 = []\n",
    "c12 = []\n",
    "c13 = []\n",
    "c21 = []\n",
    "c22 = []\n",
    "c23 = []\n",
    "\n",
    "for i in range(10):\n",
    "    t_end = 5000\n",
    "    pp1, serv1 = mainSim_p1(t_end, numClass, lambdas, mu, rho, alpha)\n",
    "    pp2, serv2 = mainSim_p2(t_end, numClass, lambdas, mu, rho, alpha)\n",
    "    \n",
    "    R1 = 0\n",
    "    R2 = 0\n",
    "\n",
    "    for p in pp1:\n",
    "        if p.currentClass == -1:\n",
    "            if p.curedClass == 1:\n",
    "                R1 += r1\n",
    "            if p.curedClass == 2:\n",
    "                R1 += r2\n",
    "            if p.curedClass == 3:\n",
    "                R1 += r3\n",
    "    print(i)"
   ]
  },
  {
   "cell_type": "code",
   "execution_count": 385,
   "metadata": {},
   "outputs": [
    {
     "name": "stdout",
     "output_type": "stream",
     "text": [
      "1.0\n",
      "0.131800615307\n",
      "0.317256738355\n",
      "0.447209024456\n",
      "0.103733621882\n"
     ]
    }
   ],
   "source": [
    "print(1.8/mu)\n",
    "print(np.mean(c1))\n",
    "print(np.mean(c2))\n",
    "print(np.mean(c3))\n",
    "print(1-np.mean(c1)-np.mean(c2)-np.mean(c3))"
   ]
  },
  {
   "cell_type": "markdown",
   "metadata": {},
   "source": [
    "### Plot"
   ]
  },
  {
   "cell_type": "code",
   "execution_count": 386,
   "metadata": {},
   "outputs": [],
   "source": [
    "t91 = [0.1129, 0.0000, 0.0000,0.8871]\n",
    "t361 = [0.2738, 0.0003, 0.0000, 0.7259]\n",
    "t21 = [0.4920, 0.0075, 0.0001, 0.5004]\n",
    "t181 = [0.5392, 0.0159, 0.0002, 0.4447]\n",
    "t121 = [0.4772, 0.3458, 0.0108, 0.1662]\n",
    "t11 = [0.2718, 0.4240, 0.2690, 0.0352]\n",
    "t751 = [0.2276, 0.3449, 0.4187, 0.0088]\n",
    "t51 = [0.2256, 0.3332, 0.4380, 0.0032]\n",
    "t021 = [0.2227, 0.3339, 0.4422, 0.0012]\n",
    "\n",
    "t92 = [0.0000, 0, 0.11, 0.89]\n",
    "t362 = [0.0000, 3.31528345674e-05, 0.277876124848, 0.722090722318]\n",
    "t22 = [2.27221086117e-05, 0.0481039656407, 0.450018813635, 0.501854498616]\n",
    "t182 = [0.000200879027205, 0.0880579803448, 0.462991035885, 0.448750104743]\n",
    "t122 = [0.0647329998229, 0.287540409493, 0.453688576622, 0.194038014063]\n",
    "t12 = [0.131800615307, 0.317256738355, 0.447209024456, 0.103733621882]\n",
    "t752 = [0.193896682813, 0.323995808967, 0.446630621757, 0.035476886463]\n",
    "t52 = [0.214832440122, 0.331881509516, 0.442618000595, 0.0106680497672]\n",
    "t022 = [0.221470896036, 0.333495684559, 0.4416893317, 0.0033440877046]\n",
    "\n",
    "t = [t91, t92, t361, t362, t21, t22, t181, t182, t121, t122, t11, t12, t751, t752, t51, t52, t021, t022]\n",
    "t1 = [t91, t361, t21, t181, t121, t11, t751, t51, t021]\n",
    "t2 = [t92, t362, t22, t182, t122, t12, t752, t52, t022]\n",
    "\n",
    "w11 = []\n",
    "w12 = []\n",
    "w13 = []\n",
    "w14 = []\n",
    "for i in t1:\n",
    "    w11.append(i[0])\n",
    "    w12.append(i[1])\n",
    "    w13.append(i[2])\n",
    "    w14.append(i[3])\n",
    "    \n",
    "w21 = []\n",
    "w22 = []\n",
    "w23 = []\n",
    "w24 = []\n",
    "for i in t2:\n",
    "    w21.append(i[0])\n",
    "    w22.append(i[1])\n",
    "    w23.append(i[2])\n",
    "    w24.append(i[3])"
   ]
  },
  {
   "cell_type": "code",
   "execution_count": 387,
   "metadata": {},
   "outputs": [
    {
     "data": {
      "image/png": "[encoded data removed]",
      "text/plain": [
       "<matplotlib.figure.Figure at 0x23b9d6f4860>"
      ]
     },
     "metadata": {},
     "output_type": "display_data"
    }
   ],
   "source": [
    "y_pos = [19.8, 17.6, 15.4, 13.2, 11, 8.8, 6.6, 4.4, 2.2, 0]\n",
    "t_label = ('9', '3.6', '2', '1.8', '1.2', '1', '0.75', '0.5', '0.2')\n",
    "\n",
    "plt.close('all')\n",
    "fig, ax = plt.subplots(figsize=(16,8))\n",
    "\n",
    "for i in range(9):\n",
    "    if i == 0:\n",
    "        ax.barh(y_pos[i], w11[i], color = 'aqua', edgecolor = 'k', align = 'edge',label = 'class 1')\n",
    "        ax.barh(y_pos[i], w12[i], left = w11[i], color = 'lime', edgecolor = 'k', align = 'edge', label = 'class 2')\n",
    "        ax.barh(y_pos[i], w13[i], left = w11[i]+w12[i], color = 'yellow', edgecolor = 'k', align = 'edge', label = 'class 3')\n",
    "        ax.barh(y_pos[i], w14[i], left = w11[i]+w12[i]+w13[i], color = 'silver', edgecolor = 'k', align = 'edge', label = 'Others')\n",
    "\n",
    "        ax.barh(y_pos[i], w21[i], color = 'aqua', edgecolor = 'k', align = 'edge', height = -0.8)\n",
    "        ax.barh(y_pos[i], w22[i], left = w21[i], color = 'lime', edgecolor = 'k', align = 'edge', height = -0.8)\n",
    "        ax.barh(y_pos[i], w23[i], left = w21[i]+w22[i], color = 'yellow', edgecolor = 'k', align = 'edge', height = -0.8)\n",
    "        ax.barh(y_pos[i], w24[i], left = w21[i]+w22[i]+w23[i], color = 'silver', edgecolor = 'k', align = 'edge', height = -0.8)\n",
    "    else:\n",
    "        ax.barh(y_pos[i], w11[i], color = 'aqua', edgecolor = 'k', align = 'edge')\n",
    "        ax.barh(y_pos[i], w12[i], left = w11[i], color = 'lime', edgecolor = 'k', align = 'edge')\n",
    "        ax.barh(y_pos[i], w13[i], left = w11[i]+w12[i], color = 'yellow', edgecolor = 'k', align = 'edge')\n",
    "        ax.barh(y_pos[i], w14[i], left = w11[i]+w12[i]+w13[i], color = 'silver', edgecolor = 'k', align = 'edge')\n",
    "\n",
    "        ax.barh(y_pos[i], w21[i], color = 'aqua', edgecolor = 'k', align = 'edge', height = -0.8)\n",
    "        ax.barh(y_pos[i], w22[i], left = w21[i], color = 'lime', edgecolor = 'k', align = 'edge', height = -0.8)\n",
    "        ax.barh(y_pos[i], w23[i], left = w21[i]+w22[i], color = 'yellow', edgecolor = 'k', align = 'edge', height = -0.8)\n",
    "        ax.barh(y_pos[i], w24[i], left = w21[i]+w22[i]+w23[i], color = 'silver', edgecolor = 'k', align = 'edge', height = -0.8)\n",
    "    \n",
    "ax.set_yticks(y_pos)\n",
    "ax.set_yticklabels(t_label)\n",
    "ax.set_ylabel('Traffic intensity')\n",
    "ax.set_xlabel('Ratio (Policy 1 on top)')\n",
    "ax.legend(loc = 1)\n",
    "ax.set_xlim([0,1.13])\n",
    "plt.show()"
   ]
  },
  {
   "cell_type": "code",
   "execution_count": 254,
   "metadata": {},
   "outputs": [
    {
     "data": {
      "text/plain": [
       "[8, 7, 6, 5, 4, 3, 2, 1, 0]"
      ]
     },
     "execution_count": 254,
     "metadata": {},
     "output_type": "execute_result"
    }
   ],
   "source": [
    "0.136637135052, 0.317781428118, 0.445280819044, 0.100300617786"
   ]
  }
 ],
 "metadata": {
  "kernelspec": {
   "display_name": "Python 3",
   "language": "python",
   "name": "python3"
  },
  "language_info": {
   "codemirror_mode": {
    "name": "ipython",
    "version": 3
   },
   "file_extension": ".py",
   "mimetype": "text/x-python",
   "name": "python",
   "nbconvert_exporter": "python",
   "pygments_lexer": "ipython3",
   "version": "3.6.3"
  }
 },
 "nbformat": 4,
 "nbformat_minor": 2
}
